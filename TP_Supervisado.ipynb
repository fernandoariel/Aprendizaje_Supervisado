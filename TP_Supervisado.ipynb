{
  "nbformat": 4,
  "nbformat_minor": 0,
  "metadata": {
    "colab": {
      "name": "TP_Supervisado",
      "provenance": [],
      "collapsed_sections": [],
      "authorship_tag": "ABX9TyN25oOOgefsxfGxf3cNiCuW",
      "include_colab_link": true
    },
    "kernelspec": {
      "name": "python3",
      "display_name": "Python 3"
    },
    "accelerator": "GPU"
  },
  "cells": [
    {
      "cell_type": "markdown",
      "metadata": {
        "id": "view-in-github",
        "colab_type": "text"
      },
      "source": [
        "<a href=\"https://colab.research.google.com/github/fernandoariel/Diplomatura/blob/master/TP_Supervisado.ipynb\" target=\"_parent\"><img src=\"https://colab.research.google.com/assets/colab-badge.svg\" alt=\"Open In Colab\"/></a>"
      ]
    },
    {
      "cell_type": "code",
      "metadata": {
        "id": "ykSFzCMX6YRa",
        "colab_type": "code",
        "colab": {}
      },
      "source": [
        "import pandas as pd\n",
        "import numpy as np\n",
        "import os\n",
        "\n",
        "from sklearn.ensemble import RandomForestClassifier\n",
        "from sklearn.model_selection import RandomizedSearchCV\n",
        "from sklearn.metrics import accuracy_score\n",
        "\n",
        "from xgboost import XGBClassifier\n",
        "from sklearn.model_selection import GridSearchCV\n"
      ],
      "execution_count": 1,
      "outputs": []
    },
    {
      "cell_type": "markdown",
      "metadata": {
        "id": "L-QKNCtVXw3Y",
        "colab_type": "text"
      },
      "source": [
        "# **Aprendizaje Supervisado**"
      ]
    },
    {
      "cell_type": "markdown",
      "metadata": {
        "id": "HlTOZt6vW7yv",
        "colab_type": "text"
      },
      "source": [
        "**Grupo 14** \n",
        "- Fernando Vázquez\n",
        "- Matias Ramos\n",
        "- Lucas Lascano\n",
        "- Ariel Rubio"
      ]
    },
    {
      "cell_type": "code",
      "metadata": {
        "id": "K1lJ7-jO7lGi",
        "colab_type": "code",
        "colab": {
          "base_uri": "https://localhost:8080/",
          "height": 125
        },
        "outputId": "7e735785-a2b0-4013-b90b-f791ff9d65da"
      },
      "source": [
        "from google.colab import drive \n",
        "drive.mount('/content/gdrive')"
      ],
      "execution_count": 2,
      "outputs": [
        {
          "output_type": "stream",
          "text": [
            "Go to this URL in a browser: https://accounts.google.com/o/oauth2/auth?client_id=947318989803-6bn6qk8qdgf4n4g3pfee6491hc0brc4i.apps.googleusercontent.com&redirect_uri=urn%3aietf%3awg%3aoauth%3a2.0%3aoob&scope=email%20https%3a%2f%2fwww.googleapis.com%2fauth%2fdocs.test%20https%3a%2f%2fwww.googleapis.com%2fauth%2fdrive%20https%3a%2f%2fwww.googleapis.com%2fauth%2fdrive.photos.readonly%20https%3a%2f%2fwww.googleapis.com%2fauth%2fpeopleapi.readonly&response_type=code\n",
            "\n",
            "Enter your authorization code:\n",
            "··········\n",
            "Mounted at /content/gdrive\n"
          ],
          "name": "stdout"
        }
      ]
    },
    {
      "cell_type": "code",
      "metadata": {
        "id": "pURluoqv7wip",
        "colab_type": "code",
        "colab": {
          "base_uri": "https://localhost:8080/",
          "height": 347
        },
        "outputId": "f6c06b2c-9d8a-45cd-b1e4-5d1e52ee1043"
      },
      "source": [
        "df=pd.read_csv('/content/gdrive/My Drive/Colab Notebooks/train.csv')\n",
        "df.sample(10) #le damos un vistaso a los datos"
      ],
      "execution_count": 3,
      "outputs": [
        {
          "output_type": "execute_result",
          "data": {
            "text/html": [
              "<div>\n",
              "<style scoped>\n",
              "    .dataframe tbody tr th:only-of-type {\n",
              "        vertical-align: middle;\n",
              "    }\n",
              "\n",
              "    .dataframe tbody tr th {\n",
              "        vertical-align: top;\n",
              "    }\n",
              "\n",
              "    .dataframe thead th {\n",
              "        text-align: right;\n",
              "    }\n",
              "</style>\n",
              "<table border=\"1\" class=\"dataframe\">\n",
              "  <thead>\n",
              "    <tr style=\"text-align: right;\">\n",
              "      <th></th>\n",
              "      <th>TripType</th>\n",
              "      <th>VisitNumber</th>\n",
              "      <th>Weekday</th>\n",
              "      <th>Upc</th>\n",
              "      <th>ScanCount</th>\n",
              "      <th>DepartmentDescription</th>\n",
              "      <th>FinelineNumber</th>\n",
              "    </tr>\n",
              "  </thead>\n",
              "  <tbody>\n",
              "    <tr>\n",
              "      <th>181008</th>\n",
              "      <td>33</td>\n",
              "      <td>76390</td>\n",
              "      <td>Wednesday</td>\n",
              "      <td>8.563120e+10</td>\n",
              "      <td>-1</td>\n",
              "      <td>DSD GROCERY</td>\n",
              "      <td>3467.0</td>\n",
              "    </tr>\n",
              "    <tr>\n",
              "      <th>395901</th>\n",
              "      <td>40</td>\n",
              "      <td>167337</td>\n",
              "      <td>Thursday</td>\n",
              "      <td>7.874208e+09</td>\n",
              "      <td>2</td>\n",
              "      <td>BAKERY</td>\n",
              "      <td>6715.0</td>\n",
              "    </tr>\n",
              "    <tr>\n",
              "      <th>248046</th>\n",
              "      <td>18</td>\n",
              "      <td>104264</td>\n",
              "      <td>Sunday</td>\n",
              "      <td>8.054702e+10</td>\n",
              "      <td>1</td>\n",
              "      <td>JEWELRY AND SUNGLASSES</td>\n",
              "      <td>6812.0</td>\n",
              "    </tr>\n",
              "    <tr>\n",
              "      <th>351728</th>\n",
              "      <td>25</td>\n",
              "      <td>148462</td>\n",
              "      <td>Sunday</td>\n",
              "      <td>3.426444e+09</td>\n",
              "      <td>1</td>\n",
              "      <td>COOK AND DINE</td>\n",
              "      <td>579.0</td>\n",
              "    </tr>\n",
              "    <tr>\n",
              "      <th>311155</th>\n",
              "      <td>36</td>\n",
              "      <td>131943</td>\n",
              "      <td>Friday</td>\n",
              "      <td>3.700020e+09</td>\n",
              "      <td>1</td>\n",
              "      <td>PERSONAL CARE</td>\n",
              "      <td>203.0</td>\n",
              "    </tr>\n",
              "    <tr>\n",
              "      <th>318218</th>\n",
              "      <td>39</td>\n",
              "      <td>135013</td>\n",
              "      <td>Friday</td>\n",
              "      <td>7.952321e+10</td>\n",
              "      <td>1</td>\n",
              "      <td>GIRLS WEAR, 4-6X  AND 7-14</td>\n",
              "      <td>363.0</td>\n",
              "    </tr>\n",
              "    <tr>\n",
              "      <th>149739</th>\n",
              "      <td>39</td>\n",
              "      <td>62751</td>\n",
              "      <td>Sunday</td>\n",
              "      <td>4.145811e+09</td>\n",
              "      <td>1</td>\n",
              "      <td>FROZEN FOODS</td>\n",
              "      <td>2006.0</td>\n",
              "    </tr>\n",
              "    <tr>\n",
              "      <th>171791</th>\n",
              "      <td>40</td>\n",
              "      <td>72261</td>\n",
              "      <td>Tuesday</td>\n",
              "      <td>2.100005e+09</td>\n",
              "      <td>1</td>\n",
              "      <td>DAIRY</td>\n",
              "      <td>7955.0</td>\n",
              "    </tr>\n",
              "    <tr>\n",
              "      <th>43452</th>\n",
              "      <td>37</td>\n",
              "      <td>17440</td>\n",
              "      <td>Sunday</td>\n",
              "      <td>2.840024e+09</td>\n",
              "      <td>1</td>\n",
              "      <td>DSD GROCERY</td>\n",
              "      <td>4402.0</td>\n",
              "    </tr>\n",
              "    <tr>\n",
              "      <th>252945</th>\n",
              "      <td>40</td>\n",
              "      <td>106013</td>\n",
              "      <td>Sunday</td>\n",
              "      <td>8.154730e+10</td>\n",
              "      <td>2</td>\n",
              "      <td>DAIRY</td>\n",
              "      <td>7978.0</td>\n",
              "    </tr>\n",
              "  </tbody>\n",
              "</table>\n",
              "</div>"
            ],
            "text/plain": [
              "        TripType  VisitNumber  ...       DepartmentDescription  FinelineNumber\n",
              "181008        33        76390  ...                 DSD GROCERY          3467.0\n",
              "395901        40       167337  ...                      BAKERY          6715.0\n",
              "248046        18       104264  ...      JEWELRY AND SUNGLASSES          6812.0\n",
              "351728        25       148462  ...               COOK AND DINE           579.0\n",
              "311155        36       131943  ...               PERSONAL CARE           203.0\n",
              "318218        39       135013  ...  GIRLS WEAR, 4-6X  AND 7-14           363.0\n",
              "149739        39        62751  ...                FROZEN FOODS          2006.0\n",
              "171791        40        72261  ...                       DAIRY          7955.0\n",
              "43452         37        17440  ...                 DSD GROCERY          4402.0\n",
              "252945        40       106013  ...                       DAIRY          7978.0\n",
              "\n",
              "[10 rows x 7 columns]"
            ]
          },
          "metadata": {
            "tags": []
          },
          "execution_count": 3
        }
      ]
    },
    {
      "cell_type": "code",
      "metadata": {
        "id": "top-WX6rGdQt",
        "colab_type": "code",
        "colab": {}
      },
      "source": [
        "def transform_data(train_data_fname, test_data_fname):\n",
        "    df_train = pd.read_csv(train_data_fname)\n",
        "    df_train['is_train_set'] = 1\n",
        "    df_test = pd.read_csv(test_data_fname)\n",
        "    df_test['is_train_set'] = 0\n",
        "\n",
        "    # we  get the TripType for the train set. To do that, we group by VisitNumber and\n",
        "    # then we get the max (or min or avg)\n",
        "    y = df_train.groupby([\"VisitNumber\", \"Weekday\"], as_index=False).max().TripType\n",
        "\n",
        "    # we remove the TripType now, and concat training and testing data\n",
        "    # the concat is done so that we have the same columns for both datasets\n",
        "    # after one-hot encoding\n",
        "    df_train = df_train.drop(\"TripType\", axis=1)\n",
        "    df = pd.concat([df_train, df_test])\n",
        "    \n",
        "    # the next three operations are the ones we have just presented in the previous lines\n",
        "    \n",
        "    # drop the columns we won't use (it may be good to use them somehow)\n",
        "    df = df.drop([\"Upc\", \"FinelineNumber\"], axis=1)\n",
        "\n",
        "    # one-hot encoding for the DepartmentDescription\n",
        "    df = pd.get_dummies(df, columns=[\"DepartmentDescription\"], dummy_na=True)\n",
        "\n",
        "    # now we add the groupby values\n",
        "    df = df.groupby([\"VisitNumber\", \"Weekday\"], as_index=False).sum()\n",
        "    \n",
        "    # finally, we do one-hot encoding for the Weekday\n",
        "    df = pd.get_dummies(df, columns=[\"Weekday\"], dummy_na=True)\n",
        "\n",
        "       \n",
        "\n",
        "    # get train and test back\n",
        "    df_train = df[df.is_train_set != 0]\n",
        "    df_test = df[df.is_train_set == 0]\n",
        "    \n",
        "    X = df_train.drop([\"is_train_set\"], axis=1)\n",
        "    yy = None\n",
        "    XX = df_test.drop([\"is_train_set\"], axis=1)\n",
        "\n",
        "    return X, y, XX, yy"
      ],
      "execution_count": 4,
      "outputs": []
    },
    {
      "cell_type": "code",
      "metadata": {
        "id": "Tvj_AN-rGzhQ",
        "colab_type": "code",
        "colab": {}
      },
      "source": [
        "X, y, XX, yy = transform_data(\"/content/gdrive/My Drive/Colab Notebooks/train.csv\", \"/content/gdrive/My Drive/Colab Notebooks/test.csv\")"
      ],
      "execution_count": 5,
      "outputs": []
    },
    {
      "cell_type": "code",
      "metadata": {
        "id": "v8XWOsfBJkdp",
        "colab_type": "code",
        "colab": {}
      },
      "source": [
        "# split training dataset into train and \"validation\" \n",
        "# (we won't be using validation set in this example, because of the cross-validation;\n",
        "# but it could be useful for you depending on your approach)\n",
        "from sklearn.model_selection import train_test_split\n",
        "X_train, X_valid, y_train, y_valid = train_test_split(X, y, test_size=0.3, random_state=42)"
      ],
      "execution_count": 6,
      "outputs": []
    },
    {
      "cell_type": "code",
      "metadata": {
        "id": "3RqX0AyGHLFG",
        "colab_type": "code",
        "colab": {}
      },
      "source": [
        "# results dataframe is used to store the computed results\n",
        "results = pd.DataFrame(columns=('clf', 'best_acc'))"
      ],
      "execution_count": 7,
      "outputs": []
    },
    {
      "cell_type": "markdown",
      "metadata": {
        "id": "H96fwa0K9SEM",
        "colab_type": "text"
      },
      "source": [
        "# **Random Forest con RandomizedSearchCV**"
      ]
    },
    {
      "cell_type": "code",
      "metadata": {
        "id": "3p7vDvOFH4a-",
        "colab_type": "code",
        "colab": {}
      },
      "source": [
        "param_distributions = {'criterion': ['gini', 'entropy'], 'min_samples_split': [2, 5, 10], 'min_samples_leaf': [1, 2, 6], 'n_estimators': [30,60], 'max_features':['sqrt','log2',6]}\n",
        "forest_clf=RandomizedSearchCV( RandomForestClassifier(random_state=1) ,param_distributions, n_iter=10, scoring='accuracy', cv=3)\n",
        "\n",
        "\n",
        "forest_clf.fit(X_train, y_train)\n",
        "best_forest_clf=forest_clf.best_estimator_"
      ],
      "execution_count": 8,
      "outputs": []
    },
    {
      "cell_type": "code",
      "metadata": {
        "id": "yT_-I8xew3In",
        "colab_type": "code",
        "colab": {
          "base_uri": "https://localhost:8080/",
          "height": 336
        },
        "outputId": "fa6b2b0c-20cb-4f20-f24b-4221f380c08a"
      },
      "source": [
        "print('random forest accuracy: ', forest_clf.best_score_)\n",
        "print(best_forest_clf)\n",
        "results = results.append({'clf': best_forest_clf, 'best_acc': forest_clf.best_score_}, ignore_index=True)\n",
        "\n",
        "print('The best classifier so far is: ')\n",
        "print(results.loc[results['best_acc'].idxmax()]['clf'])"
      ],
      "execution_count": 9,
      "outputs": [
        {
          "output_type": "stream",
          "text": [
            "random forest accuracy:  0.660848252344416\n",
            "RandomForestClassifier(bootstrap=True, ccp_alpha=0.0, class_weight=None,\n",
            "                       criterion='gini', max_depth=None, max_features='sqrt',\n",
            "                       max_leaf_nodes=None, max_samples=None,\n",
            "                       min_impurity_decrease=0.0, min_impurity_split=None,\n",
            "                       min_samples_leaf=2, min_samples_split=5,\n",
            "                       min_weight_fraction_leaf=0.0, n_estimators=30,\n",
            "                       n_jobs=None, oob_score=False, random_state=1, verbose=0,\n",
            "                       warm_start=False)\n",
            "The best classifier so far is: \n",
            "RandomForestClassifier(bootstrap=True, ccp_alpha=0.0, class_weight=None,\n",
            "                       criterion='gini', max_depth=None, max_features='sqrt',\n",
            "                       max_leaf_nodes=None, max_samples=None,\n",
            "                       min_impurity_decrease=0.0, min_impurity_split=None,\n",
            "                       min_samples_leaf=2, min_samples_split=5,\n",
            "                       min_weight_fraction_leaf=0.0, n_estimators=30,\n",
            "                       n_jobs=None, oob_score=False, random_state=1, verbose=0,\n",
            "                       warm_start=False)\n"
          ],
          "name": "stdout"
        }
      ]
    },
    {
      "cell_type": "code",
      "metadata": {
        "id": "2-n-PIWZHa_n",
        "colab_type": "code",
        "colab": {
          "base_uri": "https://localhost:8080/",
          "height": 34
        },
        "outputId": "f11e2a51-42bb-40cd-eb55-81845fd36ca8"
      },
      "source": [
        "X.shape, XX.shape"
      ],
      "execution_count": 10,
      "outputs": [
        {
          "output_type": "execute_result",
          "data": {
            "text/plain": [
              "((67029, 79), (28645, 79))"
            ]
          },
          "metadata": {
            "tags": []
          },
          "execution_count": 10
        }
      ]
    },
    {
      "cell_type": "code",
      "metadata": {
        "id": "scn1yyCFHbuQ",
        "colab_type": "code",
        "colab": {
          "base_uri": "https://localhost:8080/",
          "height": 34
        },
        "outputId": "ffabca18-1c69-41fa-aaf0-f415c2fcfe50"
      },
      "source": [
        "yy = results.clf.iloc[0].predict(XX)\n",
        "yy.shape"
      ],
      "execution_count": 11,
      "outputs": [
        {
          "output_type": "execute_result",
          "data": {
            "text/plain": [
              "(28645,)"
            ]
          },
          "metadata": {
            "tags": []
          },
          "execution_count": 11
        }
      ]
    },
    {
      "cell_type": "code",
      "metadata": {
        "id": "YgklkS3bHd8y",
        "colab_type": "code",
        "colab": {}
      },
      "source": [
        "submission = pd.DataFrame(list(zip(XX.VisitNumber, yy)), columns=[\"VisitNumber\", \"TripType\"])\n"
      ],
      "execution_count": 13,
      "outputs": []
    },
    {
      "cell_type": "code",
      "metadata": {
        "id": "lv1AL5sjHgR-",
        "colab_type": "code",
        "colab": {}
      },
      "source": [
        "submission.to_csv(\"/content/gdrive/My Drive/Colab Notebooks/submission.csv\", header=True, index=False)"
      ],
      "execution_count": 14,
      "outputs": []
    },
    {
      "cell_type": "markdown",
      "metadata": {
        "id": "J17mbLJ-VjYD",
        "colab_type": "text"
      },
      "source": [
        "Se opto por utilizar  RandomizedSearchCV debido a que mejora los tiempos de ejecución respecto a GridSearchCV. Se obtuvieron resultados superiores en  kaggle respecto al score inicial.\n",
        "\n"
      ]
    },
    {
      "cell_type": "markdown",
      "metadata": {
        "id": "Hs2EqGH58BpW",
        "colab_type": "text"
      },
      "source": [
        "# **Random Forest sin grilla de parametros**"
      ]
    },
    {
      "cell_type": "markdown",
      "metadata": {
        "id": "pCpA9oilVRF7",
        "colab_type": "text"
      },
      "source": [
        "De esta manera se obtuvo un mejor score que al usar RandomizedSearchCV.\n"
      ]
    },
    {
      "cell_type": "code",
      "metadata": {
        "id": "h7iCqTkk8W0K",
        "colab_type": "code",
        "colab": {
          "base_uri": "https://localhost:8080/",
          "height": 158
        },
        "outputId": "7b2992a9-c782-4156-e6ba-59e24dd44d62"
      },
      "source": [
        "model=RandomForestClassifier(n_estimators=60, random_state=2, min_samples_leaf=2, min_samples_split=10)\n",
        "model.fit(X_train, y_train)"
      ],
      "execution_count": 15,
      "outputs": [
        {
          "output_type": "execute_result",
          "data": {
            "text/plain": [
              "RandomForestClassifier(bootstrap=True, ccp_alpha=0.0, class_weight=None,\n",
              "                       criterion='gini', max_depth=None, max_features='auto',\n",
              "                       max_leaf_nodes=None, max_samples=None,\n",
              "                       min_impurity_decrease=0.0, min_impurity_split=None,\n",
              "                       min_samples_leaf=2, min_samples_split=10,\n",
              "                       min_weight_fraction_leaf=0.0, n_estimators=60,\n",
              "                       n_jobs=None, oob_score=False, random_state=2, verbose=0,\n",
              "                       warm_start=False)"
            ]
          },
          "metadata": {
            "tags": []
          },
          "execution_count": 15
        }
      ]
    },
    {
      "cell_type": "code",
      "metadata": {
        "id": "EYI6aTxs8gAc",
        "colab_type": "code",
        "colab": {
          "base_uri": "https://localhost:8080/",
          "height": 34
        },
        "outputId": "6213892d-3a75-429f-a1ef-42beb7f1cd4c"
      },
      "source": [
        "y_predicted=model.predict(XX)\n",
        "model.score(X_valid, y_valid)"
      ],
      "execution_count": 16,
      "outputs": [
        {
          "output_type": "execute_result",
          "data": {
            "text/plain": [
              "0.6695509473370133"
            ]
          },
          "metadata": {
            "tags": []
          },
          "execution_count": 16
        }
      ]
    },
    {
      "cell_type": "code",
      "metadata": {
        "id": "GiJbH6jqMvCp",
        "colab_type": "code",
        "colab": {
          "base_uri": "https://localhost:8080/",
          "height": 34
        },
        "outputId": "ae454425-079a-40b4-c553-88ffd3b0883b"
      },
      "source": [
        "y_predicted"
      ],
      "execution_count": 17,
      "outputs": [
        {
          "output_type": "execute_result",
          "data": {
            "text/plain": [
              "array([ 9, 40, 21, ...,  3, 39, 39])"
            ]
          },
          "metadata": {
            "tags": []
          },
          "execution_count": 17
        }
      ]
    },
    {
      "cell_type": "code",
      "metadata": {
        "colab_type": "code",
        "id": "7XZTuCl98uEZ",
        "colab": {
          "base_uri": "https://localhost:8080/",
          "height": 34
        },
        "outputId": "3d861a88-fffb-4b8b-9b4f-20cc25a011f5"
      },
      "source": [
        "X.shape, XX.shape"
      ],
      "execution_count": 18,
      "outputs": [
        {
          "output_type": "execute_result",
          "data": {
            "text/plain": [
              "((67029, 79), (28645, 79))"
            ]
          },
          "metadata": {
            "tags": []
          },
          "execution_count": 18
        }
      ]
    },
    {
      "cell_type": "code",
      "metadata": {
        "colab_type": "code",
        "id": "bcKWDYiH8_0i",
        "colab": {}
      },
      "source": [
        "submission = pd.DataFrame(list(zip(XX.VisitNumber, y_predicted)), columns=[\"VisitNumber\", \"TripType\"])"
      ],
      "execution_count": 19,
      "outputs": []
    },
    {
      "cell_type": "code",
      "metadata": {
        "colab_type": "code",
        "id": "RjaCWDYb9C2J",
        "colab": {}
      },
      "source": [
        "submission.to_csv(\"/content/gdrive/My Drive/Colab Notebooks/submission.csv\", header=True, index=False)"
      ],
      "execution_count": 20,
      "outputs": []
    },
    {
      "cell_type": "markdown",
      "metadata": {
        "id": "fwVkhqfkHq6n",
        "colab_type": "text"
      },
      "source": [
        "# **Boosting**"
      ]
    },
    {
      "cell_type": "markdown",
      "metadata": {
        "id": "HvCJ7IgwWflm",
        "colab_type": "text"
      },
      "source": [
        "Al usar XGBClassifier con los siguientes parametros obtuvimos los mejores resultados.\n"
      ]
    },
    {
      "cell_type": "code",
      "metadata": {
        "id": "5TrExe26IhAZ",
        "colab_type": "code",
        "colab": {
          "base_uri": "https://localhost:8080/",
          "height": 141
        },
        "outputId": "b6eddce2-7d30-49ae-a1ef-c73728fe2584"
      },
      "source": [
        "model_3=XGBClassifier(n_estimators=500,random_state=2, gamma=0.7, colsample_bytree=0.5, learning_rate=0.2)\n",
        "model_3.fit(X_train, y_train)"
      ],
      "execution_count": 28,
      "outputs": [
        {
          "output_type": "execute_result",
          "data": {
            "text/plain": [
              "XGBClassifier(base_score=0.5, booster='gbtree', colsample_bylevel=1,\n",
              "              colsample_bynode=1, colsample_bytree=0.5, gamma=0.7,\n",
              "              learning_rate=0.2, max_delta_step=0, max_depth=3,\n",
              "              min_child_weight=1, missing=None, n_estimators=500, n_jobs=1,\n",
              "              nthread=None, objective='multi:softprob', random_state=2,\n",
              "              reg_alpha=0, reg_lambda=1, scale_pos_weight=1, seed=None,\n",
              "              silent=None, subsample=1, verbosity=1)"
            ]
          },
          "metadata": {
            "tags": []
          },
          "execution_count": 28
        }
      ]
    },
    {
      "cell_type": "code",
      "metadata": {
        "id": "xDn4bjHjKBMD",
        "colab_type": "code",
        "colab": {}
      },
      "source": [
        "y_pred=model_3.predict(XX)"
      ],
      "execution_count": 29,
      "outputs": []
    },
    {
      "cell_type": "code",
      "metadata": {
        "id": "e6UdQT98Kd-M",
        "colab_type": "code",
        "colab": {
          "base_uri": "https://localhost:8080/",
          "height": 34
        },
        "outputId": "e0de8278-d334-403c-9fa9-8edda3d37f8b"
      },
      "source": [
        "# evaluate predictions\n",
        "model_3.score(X_valid, y_valid)"
      ],
      "execution_count": 30,
      "outputs": [
        {
          "output_type": "execute_result",
          "data": {
            "text/plain": [
              "0.6983440250634044"
            ]
          },
          "metadata": {
            "tags": []
          },
          "execution_count": 30
        }
      ]
    },
    {
      "cell_type": "code",
      "metadata": {
        "id": "HpCV-uaILX1H",
        "colab_type": "code",
        "colab": {
          "base_uri": "https://localhost:8080/",
          "height": 34
        },
        "outputId": "b1a0c963-c0e8-4124-bac3-9fe35cdd9a4f"
      },
      "source": [
        "X.shape, XX.shape\n"
      ],
      "execution_count": 31,
      "outputs": [
        {
          "output_type": "execute_result",
          "data": {
            "text/plain": [
              "((67029, 79), (28645, 79))"
            ]
          },
          "metadata": {
            "tags": []
          },
          "execution_count": 31
        }
      ]
    },
    {
      "cell_type": "code",
      "metadata": {
        "id": "NHxd7y_nNUPI",
        "colab_type": "code",
        "colab": {}
      },
      "source": [
        "submission = pd.DataFrame(list(zip(XX.VisitNumber, y_pred)), columns=[\"VisitNumber\", \"TripType\"])"
      ],
      "execution_count": 32,
      "outputs": []
    },
    {
      "cell_type": "code",
      "metadata": {
        "id": "4TN6-XTYUn1s",
        "colab_type": "code",
        "colab": {}
      },
      "source": [
        "submission.to_csv(\"/content/gdrive/My Drive/Colab Notebooks/submission.csv\", header=True, index=False)"
      ],
      "execution_count": 33,
      "outputs": []
    }
  ]
}