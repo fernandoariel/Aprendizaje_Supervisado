{
  "nbformat": 4,
  "nbformat_minor": 0,
  "metadata": {
    "colab": {
      "name": "TP_Supervisado",
      "provenance": [],
      "collapsed_sections": [],
      "authorship_tag": "ABX9TyNf083o/pJoLMF7Bx+KLg3K",
      "include_colab_link": true
    },
    "kernelspec": {
      "name": "python3",
      "display_name": "Python 3"
    }
  },
  "cells": [
    {
      "cell_type": "markdown",
      "metadata": {
        "id": "view-in-github",
        "colab_type": "text"
      },
      "source": [
        "<a href=\"https://colab.research.google.com/github/fernandoariel/lodefernando/blob/master/TP_Supervisado.ipynb\" target=\"_parent\"><img src=\"https://colab.research.google.com/assets/colab-badge.svg\" alt=\"Open In Colab\"/></a>"
      ]
    },
    {
      "cell_type": "code",
      "metadata": {
        "id": "ykSFzCMX6YRa",
        "colab_type": "code",
        "colab": {}
      },
      "source": [
        "import pandas as pd\n",
        "import numpy as np\n",
        "import os"
      ],
      "execution_count": 1,
      "outputs": []
    },
    {
      "cell_type": "code",
      "metadata": {
        "id": "K1lJ7-jO7lGi",
        "colab_type": "code",
        "colab": {
          "base_uri": "https://localhost:8080/",
          "height": 122
        },
        "outputId": "3b5a03fa-d980-4ec4-d54c-c02b3ed9c196"
      },
      "source": [
        "from google.colab import drive \n",
        "drive.mount('/content/gdrive')"
      ],
      "execution_count": 2,
      "outputs": [
        {
          "output_type": "stream",
          "text": [
            "Go to this URL in a browser: https://accounts.google.com/o/oauth2/auth?client_id=947318989803-6bn6qk8qdgf4n4g3pfee6491hc0brc4i.apps.googleusercontent.com&redirect_uri=urn%3aietf%3awg%3aoauth%3a2.0%3aoob&scope=email%20https%3a%2f%2fwww.googleapis.com%2fauth%2fdocs.test%20https%3a%2f%2fwww.googleapis.com%2fauth%2fdrive%20https%3a%2f%2fwww.googleapis.com%2fauth%2fdrive.photos.readonly%20https%3a%2f%2fwww.googleapis.com%2fauth%2fpeopleapi.readonly&response_type=code\n",
            "\n",
            "Enter your authorization code:\n",
            "··········\n",
            "Mounted at /content/gdrive\n"
          ],
          "name": "stdout"
        }
      ]
    },
    {
      "cell_type": "code",
      "metadata": {
        "id": "pURluoqv7wip",
        "colab_type": "code",
        "colab": {
          "base_uri": "https://localhost:8080/",
          "height": 359
        },
        "outputId": "ca104987-e56c-401b-ff0b-fcb8e9e2a7bb"
      },
      "source": [
        "df=pd.read_csv('/content/gdrive/My Drive/Colab Notebooks/train.csv')\n",
        "df.sample(10)"
      ],
      "execution_count": 4,
      "outputs": [
        {
          "output_type": "execute_result",
          "data": {
            "text/html": [
              "<div>\n",
              "<style scoped>\n",
              "    .dataframe tbody tr th:only-of-type {\n",
              "        vertical-align: middle;\n",
              "    }\n",
              "\n",
              "    .dataframe tbody tr th {\n",
              "        vertical-align: top;\n",
              "    }\n",
              "\n",
              "    .dataframe thead th {\n",
              "        text-align: right;\n",
              "    }\n",
              "</style>\n",
              "<table border=\"1\" class=\"dataframe\">\n",
              "  <thead>\n",
              "    <tr style=\"text-align: right;\">\n",
              "      <th></th>\n",
              "      <th>TripType</th>\n",
              "      <th>VisitNumber</th>\n",
              "      <th>Weekday</th>\n",
              "      <th>Upc</th>\n",
              "      <th>ScanCount</th>\n",
              "      <th>DepartmentDescription</th>\n",
              "      <th>FinelineNumber</th>\n",
              "    </tr>\n",
              "  </thead>\n",
              "  <tbody>\n",
              "    <tr>\n",
              "      <th>319063</th>\n",
              "      <td>32</td>\n",
              "      <td>135378</td>\n",
              "      <td>Friday</td>\n",
              "      <td>4.900003e+09</td>\n",
              "      <td>1</td>\n",
              "      <td>DSD GROCERY</td>\n",
              "      <td>9205.0</td>\n",
              "    </tr>\n",
              "    <tr>\n",
              "      <th>405453</th>\n",
              "      <td>40</td>\n",
              "      <td>172072</td>\n",
              "      <td>Friday</td>\n",
              "      <td>5.400015e+09</td>\n",
              "      <td>1</td>\n",
              "      <td>HOUSEHOLD PAPER GOODS</td>\n",
              "      <td>3004.0</td>\n",
              "    </tr>\n",
              "    <tr>\n",
              "      <th>146401</th>\n",
              "      <td>42</td>\n",
              "      <td>61491</td>\n",
              "      <td>Sunday</td>\n",
              "      <td>7.232616e+10</td>\n",
              "      <td>1</td>\n",
              "      <td>SHOES</td>\n",
              "      <td>2538.0</td>\n",
              "    </tr>\n",
              "    <tr>\n",
              "      <th>440478</th>\n",
              "      <td>39</td>\n",
              "      <td>186845</td>\n",
              "      <td>Sunday</td>\n",
              "      <td>7.910093e+09</td>\n",
              "      <td>1</td>\n",
              "      <td>PETS AND SUPPLIES</td>\n",
              "      <td>806.0</td>\n",
              "    </tr>\n",
              "    <tr>\n",
              "      <th>188718</th>\n",
              "      <td>37</td>\n",
              "      <td>79882</td>\n",
              "      <td>Wednesday</td>\n",
              "      <td>3.700087e+09</td>\n",
              "      <td>1</td>\n",
              "      <td>HOUSEHOLD PAPER GOODS</td>\n",
              "      <td>3050.0</td>\n",
              "    </tr>\n",
              "    <tr>\n",
              "      <th>108866</th>\n",
              "      <td>40</td>\n",
              "      <td>47624</td>\n",
              "      <td>Friday</td>\n",
              "      <td>7.225004e+09</td>\n",
              "      <td>1</td>\n",
              "      <td>COMM BREAD</td>\n",
              "      <td>3702.0</td>\n",
              "    </tr>\n",
              "    <tr>\n",
              "      <th>144957</th>\n",
              "      <td>40</td>\n",
              "      <td>60971</td>\n",
              "      <td>Sunday</td>\n",
              "      <td>1.657191e+09</td>\n",
              "      <td>1</td>\n",
              "      <td>DSD GROCERY</td>\n",
              "      <td>3858.0</td>\n",
              "    </tr>\n",
              "    <tr>\n",
              "      <th>347098</th>\n",
              "      <td>33</td>\n",
              "      <td>146720</td>\n",
              "      <td>Sunday</td>\n",
              "      <td>3.500053e+09</td>\n",
              "      <td>1</td>\n",
              "      <td>HOUSEHOLD CHEMICALS/SUPP</td>\n",
              "      <td>55.0</td>\n",
              "    </tr>\n",
              "    <tr>\n",
              "      <th>49236</th>\n",
              "      <td>32</td>\n",
              "      <td>19512</td>\n",
              "      <td>Sunday</td>\n",
              "      <td>3.700028e+09</td>\n",
              "      <td>1</td>\n",
              "      <td>INFANT CONSUMABLE HARDLINES</td>\n",
              "      <td>9010.0</td>\n",
              "    </tr>\n",
              "    <tr>\n",
              "      <th>317411</th>\n",
              "      <td>40</td>\n",
              "      <td>134666</td>\n",
              "      <td>Friday</td>\n",
              "      <td>3.940002e+09</td>\n",
              "      <td>2</td>\n",
              "      <td>GROCERY DRY GOODS</td>\n",
              "      <td>2828.0</td>\n",
              "    </tr>\n",
              "  </tbody>\n",
              "</table>\n",
              "</div>"
            ],
            "text/plain": [
              "        TripType  VisitNumber  ...        DepartmentDescription  FinelineNumber\n",
              "319063        32       135378  ...                  DSD GROCERY          9205.0\n",
              "405453        40       172072  ...        HOUSEHOLD PAPER GOODS          3004.0\n",
              "146401        42        61491  ...                        SHOES          2538.0\n",
              "440478        39       186845  ...            PETS AND SUPPLIES           806.0\n",
              "188718        37        79882  ...        HOUSEHOLD PAPER GOODS          3050.0\n",
              "108866        40        47624  ...                   COMM BREAD          3702.0\n",
              "144957        40        60971  ...                  DSD GROCERY          3858.0\n",
              "347098        33       146720  ...     HOUSEHOLD CHEMICALS/SUPP            55.0\n",
              "49236         32        19512  ...  INFANT CONSUMABLE HARDLINES          9010.0\n",
              "317411        40       134666  ...            GROCERY DRY GOODS          2828.0\n",
              "\n",
              "[10 rows x 7 columns]"
            ]
          },
          "metadata": {
            "tags": []
          },
          "execution_count": 4
        }
      ]
    },
    {
      "cell_type": "code",
      "metadata": {
        "id": "top-WX6rGdQt",
        "colab_type": "code",
        "colab": {}
      },
      "source": [
        "def transform_data(train_data_fname, test_data_fname):\n",
        "    df_train = pd.read_csv(train_data_fname)\n",
        "    df_train['is_train_set'] = 1\n",
        "    df_test = pd.read_csv(test_data_fname)\n",
        "    df_test['is_train_set'] = 0\n",
        "\n",
        "    # we  get the TripType for the train set. To do that, we group by VisitNumber and\n",
        "    # then we get the max (or min or avg)\n",
        "    y = df_train.groupby([\"VisitNumber\", \"Weekday\"], as_index=False).max().TripType\n",
        "\n",
        "    # we remove the TripType now, and concat training and testing data\n",
        "    # the concat is done so that we have the same columns for both datasets\n",
        "    # after one-hot encoding\n",
        "    df_train = df_train.drop(\"TripType\", axis=1)\n",
        "    df = pd.concat([df_train, df_test])\n",
        "    \n",
        "    # the next three operations are the ones we have just presented in the previous lines\n",
        "    \n",
        "    # drop the columns we won't use (it may be good to use them somehow)\n",
        "    df = df.drop([\"Upc\", \"FinelineNumber\"], axis=1)\n",
        "\n",
        "    # one-hot encoding for the DepartmentDescription\n",
        "    df = pd.get_dummies(df, columns=[\"DepartmentDescription\"], dummy_na=True)\n",
        "\n",
        "    # now we add the groupby values\n",
        "    df = df.groupby([\"VisitNumber\", \"Weekday\"], as_index=False).sum()\n",
        "    \n",
        "    # finally, we do one-hot encoding for the Weekday\n",
        "    df = pd.get_dummies(df, columns=[\"Weekday\"], dummy_na=True)\n",
        "\n",
        "       \n",
        "\n",
        "    # get train and test back\n",
        "    df_train = df[df.is_train_set != 0]\n",
        "    df_test = df[df.is_train_set == 0]\n",
        "    \n",
        "    X = df_train.drop([\"is_train_set\"], axis=1)\n",
        "    yy = None\n",
        "    XX = df_test.drop([\"is_train_set\"], axis=1)\n",
        "\n",
        "    return X, y, XX, yy"
      ],
      "execution_count": 37,
      "outputs": []
    },
    {
      "cell_type": "code",
      "metadata": {
        "id": "Tvj_AN-rGzhQ",
        "colab_type": "code",
        "colab": {}
      },
      "source": [
        "X, y, XX, yy = transform_data(\"/content/gdrive/My Drive/Colab Notebooks/train.csv\", \"/content/gdrive/My Drive/Colab Notebooks/test.csv\")"
      ],
      "execution_count": 39,
      "outputs": []
    },
    {
      "cell_type": "code",
      "metadata": {
        "id": "v8XWOsfBJkdp",
        "colab_type": "code",
        "colab": {}
      },
      "source": [
        "# split training dataset into train and \"validation\" \n",
        "# (we won't be using validation set in this example, because of the cross-validation;\n",
        "# but it could be useful for you depending on your approach)\n",
        "from sklearn.model_selection import train_test_split\n",
        "X_train, X_valid, y_train, y_valid = train_test_split(X, y, test_size=0.3, random_state=42)"
      ],
      "execution_count": 40,
      "outputs": []
    },
    {
      "cell_type": "code",
      "metadata": {
        "id": "3RqX0AyGHLFG",
        "colab_type": "code",
        "colab": {}
      },
      "source": [
        "# results dataframe is used to store the computed results\n",
        "results = pd.DataFrame(columns=('clf', 'best_acc'))"
      ],
      "execution_count": 41,
      "outputs": []
    },
    {
      "cell_type": "markdown",
      "metadata": {
        "id": "H96fwa0K9SEM",
        "colab_type": "text"
      },
      "source": [
        "# **Random Forest con RandomizedSearchCV**"
      ]
    },
    {
      "cell_type": "code",
      "metadata": {
        "id": "cJmvRjbrMX-b",
        "colab_type": "code",
        "colab": {}
      },
      "source": [
        "from sklearn.ensemble import RandomForestClassifier\n",
        "from sklearn.model_selection import RandomizedSearchCV\n",
        "from sklearn.metrics import accuracy_score"
      ],
      "execution_count": 48,
      "outputs": []
    },
    {
      "cell_type": "code",
      "metadata": {
        "id": "3p7vDvOFH4a-",
        "colab_type": "code",
        "colab": {}
      },
      "source": [
        "param_distributions = {'criterion': ['gini', 'entropy'], 'min_samples_split': [2, 5, 10], 'min_samples_leaf': [1, 2, 6], 'n_estimators': [30,60], 'max_features':['sqrt','log2',6]}\n",
        "forest_clf=RandomizedSearchCV( RandomForestClassifier(random_state=1) ,param_distributions, n_iter=10, scoring='accuracy', cv=3)\n",
        "\n",
        "\n",
        "forest_clf.fit(X_train, y_train)\n",
        "best_forest_clf=forest_clf.best_estimator_"
      ],
      "execution_count": 49,
      "outputs": []
    },
    {
      "cell_type": "code",
      "metadata": {
        "id": "yT_-I8xew3In",
        "colab_type": "code",
        "colab": {
          "base_uri": "https://localhost:8080/",
          "height": 323
        },
        "outputId": "415b4ba0-5a32-4098-e1f4-5430de421752"
      },
      "source": [
        "print('random forest accuracy: ', forest_clf.best_score_)\n",
        "print(best_forest_clf)\n",
        "results = results.append({'clf': best_forest_clf, 'best_acc': forest_clf.best_score_}, ignore_index=True)\n",
        "\n",
        "print('The best classifier so far is: ')\n",
        "print(results.loc[results['best_acc'].idxmax()]['clf'])"
      ],
      "execution_count": 50,
      "outputs": [
        {
          "output_type": "stream",
          "text": [
            "random forest accuracy:  0.6635763000852516\n",
            "RandomForestClassifier(bootstrap=True, ccp_alpha=0.0, class_weight=None,\n",
            "                       criterion='gini', max_depth=None, max_features=6,\n",
            "                       max_leaf_nodes=None, max_samples=None,\n",
            "                       min_impurity_decrease=0.0, min_impurity_split=None,\n",
            "                       min_samples_leaf=2, min_samples_split=5,\n",
            "                       min_weight_fraction_leaf=0.0, n_estimators=60,\n",
            "                       n_jobs=None, oob_score=False, random_state=1, verbose=0,\n",
            "                       warm_start=False)\n",
            "The best classifier so far is: \n",
            "RandomForestClassifier(bootstrap=True, ccp_alpha=0.0, class_weight=None,\n",
            "                       criterion='gini', max_depth=None, max_features=6,\n",
            "                       max_leaf_nodes=None, max_samples=None,\n",
            "                       min_impurity_decrease=0.0, min_impurity_split=None,\n",
            "                       min_samples_leaf=2, min_samples_split=5,\n",
            "                       min_weight_fraction_leaf=0.0, n_estimators=60,\n",
            "                       n_jobs=None, oob_score=False, random_state=1, verbose=0,\n",
            "                       warm_start=False)\n"
          ],
          "name": "stdout"
        }
      ]
    },
    {
      "cell_type": "code",
      "metadata": {
        "id": "2-n-PIWZHa_n",
        "colab_type": "code",
        "colab": {
          "base_uri": "https://localhost:8080/",
          "height": 34
        },
        "outputId": "d7891840-4ad2-44b3-85f4-837d2d7cf2c9"
      },
      "source": [
        "X.shape, XX.shape"
      ],
      "execution_count": 51,
      "outputs": [
        {
          "output_type": "execute_result",
          "data": {
            "text/plain": [
              "((67029, 79), (28645, 79))"
            ]
          },
          "metadata": {
            "tags": []
          },
          "execution_count": 51
        }
      ]
    },
    {
      "cell_type": "code",
      "metadata": {
        "id": "scn1yyCFHbuQ",
        "colab_type": "code",
        "colab": {
          "base_uri": "https://localhost:8080/",
          "height": 34
        },
        "outputId": "b08e4044-9c11-4c47-8681-ade25d8dee59"
      },
      "source": [
        "yy = results.clf.iloc[0].predict(XX)\n",
        "yy.shape"
      ],
      "execution_count": 56,
      "outputs": [
        {
          "output_type": "execute_result",
          "data": {
            "text/plain": [
              "(28645,)"
            ]
          },
          "metadata": {
            "tags": []
          },
          "execution_count": 56
        }
      ]
    },
    {
      "cell_type": "code",
      "metadata": {
        "id": "YgklkS3bHd8y",
        "colab_type": "code",
        "colab": {
          "base_uri": "https://localhost:8080/",
          "height": 419
        },
        "outputId": "adf37a9d-f8e3-427e-8c71-419edb575664"
      },
      "source": [
        "submission = pd.DataFrame(list(zip(XX.VisitNumber, yy)), columns=[\"VisitNumber\", \"TripType\"])\n",
        "submission"
      ],
      "execution_count": 58,
      "outputs": [
        {
          "output_type": "execute_result",
          "data": {
            "text/html": [
              "<div>\n",
              "<style scoped>\n",
              "    .dataframe tbody tr th:only-of-type {\n",
              "        vertical-align: middle;\n",
              "    }\n",
              "\n",
              "    .dataframe tbody tr th {\n",
              "        vertical-align: top;\n",
              "    }\n",
              "\n",
              "    .dataframe thead th {\n",
              "        text-align: right;\n",
              "    }\n",
              "</style>\n",
              "<table border=\"1\" class=\"dataframe\">\n",
              "  <thead>\n",
              "    <tr style=\"text-align: right;\">\n",
              "      <th></th>\n",
              "      <th>VisitNumber</th>\n",
              "      <th>TripType</th>\n",
              "    </tr>\n",
              "  </thead>\n",
              "  <tbody>\n",
              "    <tr>\n",
              "      <th>0</th>\n",
              "      <td>7</td>\n",
              "      <td>9</td>\n",
              "    </tr>\n",
              "    <tr>\n",
              "      <th>1</th>\n",
              "      <td>8</td>\n",
              "      <td>40</td>\n",
              "    </tr>\n",
              "    <tr>\n",
              "      <th>2</th>\n",
              "      <td>15</td>\n",
              "      <td>21</td>\n",
              "    </tr>\n",
              "    <tr>\n",
              "      <th>3</th>\n",
              "      <td>19</td>\n",
              "      <td>25</td>\n",
              "    </tr>\n",
              "    <tr>\n",
              "      <th>4</th>\n",
              "      <td>23</td>\n",
              "      <td>8</td>\n",
              "    </tr>\n",
              "    <tr>\n",
              "      <th>...</th>\n",
              "      <td>...</td>\n",
              "      <td>...</td>\n",
              "    </tr>\n",
              "    <tr>\n",
              "      <th>28640</th>\n",
              "      <td>191331</td>\n",
              "      <td>9</td>\n",
              "    </tr>\n",
              "    <tr>\n",
              "      <th>28641</th>\n",
              "      <td>191335</td>\n",
              "      <td>32</td>\n",
              "    </tr>\n",
              "    <tr>\n",
              "      <th>28642</th>\n",
              "      <td>191342</td>\n",
              "      <td>8</td>\n",
              "    </tr>\n",
              "    <tr>\n",
              "      <th>28643</th>\n",
              "      <td>191345</td>\n",
              "      <td>39</td>\n",
              "    </tr>\n",
              "    <tr>\n",
              "      <th>28644</th>\n",
              "      <td>191346</td>\n",
              "      <td>39</td>\n",
              "    </tr>\n",
              "  </tbody>\n",
              "</table>\n",
              "<p>28645 rows × 2 columns</p>\n",
              "</div>"
            ],
            "text/plain": [
              "       VisitNumber  TripType\n",
              "0                7         9\n",
              "1                8        40\n",
              "2               15        21\n",
              "3               19        25\n",
              "4               23         8\n",
              "...            ...       ...\n",
              "28640       191331         9\n",
              "28641       191335        32\n",
              "28642       191342         8\n",
              "28643       191345        39\n",
              "28644       191346        39\n",
              "\n",
              "[28645 rows x 2 columns]"
            ]
          },
          "metadata": {
            "tags": []
          },
          "execution_count": 58
        }
      ]
    },
    {
      "cell_type": "code",
      "metadata": {
        "id": "lv1AL5sjHgR-",
        "colab_type": "code",
        "colab": {}
      },
      "source": [
        "submission.to_csv(\"/content/gdrive/My Drive/Colab Notebooks/submission.csv\", header=True, index=False)"
      ],
      "execution_count": null,
      "outputs": []
    },
    {
      "cell_type": "markdown",
      "metadata": {
        "id": "Hs2EqGH58BpW",
        "colab_type": "text"
      },
      "source": [
        "# **Random Forest sin grilla de parametros**"
      ]
    },
    {
      "cell_type": "code",
      "metadata": {
        "id": "h7iCqTkk8W0K",
        "colab_type": "code",
        "colab": {
          "base_uri": "https://localhost:8080/",
          "height": 153
        },
        "outputId": "5961bb09-f89a-4f53-de25-272300e956e3"
      },
      "source": [
        "model=RandomForestClassifier(n_estimators=500, random_state=2, min_samples_leaf=100, min_samples_split=10, oob_score=True, n_jobs=-1)\n",
        "model.fit(X_train, y_train)"
      ],
      "execution_count": 42,
      "outputs": [
        {
          "output_type": "execute_result",
          "data": {
            "text/plain": [
              "RandomForestClassifier(bootstrap=True, ccp_alpha=0.0, class_weight=None,\n",
              "                       criterion='gini', max_depth=None, max_features='auto',\n",
              "                       max_leaf_nodes=None, max_samples=None,\n",
              "                       min_impurity_decrease=0.0, min_impurity_split=None,\n",
              "                       min_samples_leaf=100, min_samples_split=10,\n",
              "                       min_weight_fraction_leaf=0.0, n_estimators=500,\n",
              "                       n_jobs=-1, oob_score=True, random_state=2, verbose=0,\n",
              "                       warm_start=False)"
            ]
          },
          "metadata": {
            "tags": []
          },
          "execution_count": 42
        }
      ]
    },
    {
      "cell_type": "code",
      "metadata": {
        "id": "EYI6aTxs8gAc",
        "colab_type": "code",
        "colab": {
          "base_uri": "https://localhost:8080/",
          "height": 34
        },
        "outputId": "7a803a47-0c30-4c93-d5cb-67924bef6270"
      },
      "source": [
        "y_predicted=model.predict(XX)\n",
        "model.score(X_valid, y_valid)"
      ],
      "execution_count": 43,
      "outputs": [
        {
          "output_type": "execute_result",
          "data": {
            "text/plain": [
              "0.6055994828186384"
            ]
          },
          "metadata": {
            "tags": []
          },
          "execution_count": 43
        }
      ]
    },
    {
      "cell_type": "code",
      "metadata": {
        "id": "GiJbH6jqMvCp",
        "colab_type": "code",
        "colab": {
          "base_uri": "https://localhost:8080/",
          "height": 34
        },
        "outputId": "bf9cf332-f590-409f-84be-58aff4c3d92b"
      },
      "source": [
        "y_predicted"
      ],
      "execution_count": 44,
      "outputs": [
        {
          "output_type": "execute_result",
          "data": {
            "text/plain": [
              "array([ 8, 39, 21, ...,  9, 39, 39])"
            ]
          },
          "metadata": {
            "tags": []
          },
          "execution_count": 44
        }
      ]
    },
    {
      "cell_type": "code",
      "metadata": {
        "colab_type": "code",
        "id": "7XZTuCl98uEZ",
        "colab": {
          "base_uri": "https://localhost:8080/",
          "height": 34
        },
        "outputId": "9e13b4b8-06fa-41f9-f5e1-8510cb1f9d42"
      },
      "source": [
        "X.shape, XX.shape"
      ],
      "execution_count": 45,
      "outputs": [
        {
          "output_type": "execute_result",
          "data": {
            "text/plain": [
              "((67029, 79), (28645, 79))"
            ]
          },
          "metadata": {
            "tags": []
          },
          "execution_count": 45
        }
      ]
    },
    {
      "cell_type": "code",
      "metadata": {
        "colab_type": "code",
        "id": "bcKWDYiH8_0i",
        "colab": {}
      },
      "source": [
        "submission = pd.DataFrame(list(zip(XX.VisitNumber, y_predicted)), columns=[\"VisitNumber\", \"TripType\"])"
      ],
      "execution_count": null,
      "outputs": []
    },
    {
      "cell_type": "code",
      "metadata": {
        "colab_type": "code",
        "id": "RjaCWDYb9C2J",
        "colab": {}
      },
      "source": [
        "submission.to_csv(\"/content/gdrive/My Drive/Colab Notebooks/submission.csv\", header=True, index=False)"
      ],
      "execution_count": null,
      "outputs": []
    },
    {
      "cell_type": "markdown",
      "metadata": {
        "id": "34oE4V-NEQWP",
        "colab_type": "text"
      },
      "source": [
        "# **SGDClassifier**"
      ]
    },
    {
      "cell_type": "code",
      "metadata": {
        "id": "_TyrFx9zEgjo",
        "colab_type": "code",
        "colab": {}
      },
      "source": [
        "from sklearn.model_selection import RandomizedSearchCV\n",
        "from sklearn.metrics import accuracy_score\n",
        "from sklearn.linear_model import SGDClassifier\n",
        "from sklearn.model_selection import ParameterSampler\n",
        "import warnings\n",
        "warnings.filterwarnings('ignore')"
      ],
      "execution_count": 14,
      "outputs": []
    },
    {
      "cell_type": "code",
      "metadata": {
        "id": "y-QhBu3pGnLZ",
        "colab_type": "code",
        "colab": {}
      },
      "source": [
        "grid={'loss': [ 'hinge', 'log', 'modified_huber'] ,       \n",
        "    'alpha': [0.001, 0.01, 0.1],\n",
        "    'learning_rate': [  'constant', 'optimal'  ],\n",
        "    'eta0': [1e-1, 1  ]\n",
        "    \n",
        "}"
      ],
      "execution_count": null,
      "outputs": []
    },
    {
      "cell_type": "code",
      "metadata": {
        "id": "soFy74vRGdi_",
        "colab_type": "code",
        "colab": {}
      },
      "source": [
        "model_2 = SGDClassifier(random_state = 2)\n",
        "\n",
        "clf_2 = RandomizedSearchCV(model_2, param_distributions=grid, scoring='accuracy', cv=2)\n",
        "\n",
        "clf_2.fit(X_train, y_train);"
      ],
      "execution_count": null,
      "outputs": []
    },
    {
      "cell_type": "code",
      "metadata": {
        "id": "-8tRndE2K7zc",
        "colab_type": "code",
        "colab": {}
      },
      "source": [
        "best_clf=clf_2.best_estimator_"
      ],
      "execution_count": null,
      "outputs": []
    },
    {
      "cell_type": "code",
      "metadata": {
        "id": "sFlF0vUeBgKF",
        "colab_type": "code",
        "colab": {
          "base_uri": "https://localhost:8080/",
          "height": 255
        },
        "outputId": "74fd0904-998b-495b-8969-d3b9befdaff5"
      },
      "source": [
        "print('random forest accuracy: ', clf_2.best_score_)\n",
        "print(best_clf)\n",
        "results = results.append({'clf': best_clf, 'best_acc': clf_2.best_score_}, ignore_index=True)\n",
        "\n",
        "print('The best classifier so far is: ')\n",
        "print(results.loc[results['best_acc'].idxmax()]['clf'])"
      ],
      "execution_count": null,
      "outputs": [
        {
          "output_type": "stream",
          "text": [
            "random forest accuracy:  0.05253623188405797\n",
            "SGDClassifier(alpha=0.1, average=False, class_weight=None, early_stopping=False,\n",
            "              epsilon=0.1, eta0=1, fit_intercept=True, l1_ratio=0.15,\n",
            "              learning_rate='optimal', loss='modified_huber', max_iter=1000,\n",
            "              n_iter_no_change=5, n_jobs=None, penalty='l2', power_t=0.5,\n",
            "              random_state=2, shuffle=True, tol=0.001, validation_fraction=0.1,\n",
            "              verbose=0, warm_start=False)\n",
            "The best classifier so far is: \n",
            "SGDClassifier(alpha=0.1, average=False, class_weight=None, early_stopping=False,\n",
            "              epsilon=0.1, eta0=1, fit_intercept=True, l1_ratio=0.15,\n",
            "              learning_rate='optimal', loss='modified_huber', max_iter=1000,\n",
            "              n_iter_no_change=5, n_jobs=None, penalty='l2', power_t=0.5,\n",
            "              random_state=2, shuffle=True, tol=0.001, validation_fraction=0.1,\n",
            "              verbose=0, warm_start=False)\n"
          ],
          "name": "stdout"
        }
      ]
    },
    {
      "cell_type": "code",
      "metadata": {
        "id": "SqSIAgIJmAmM",
        "colab_type": "code",
        "colab": {}
      },
      "source": [
        "#Nota: los resultados son muy pobres, no vale la pena seguir probando"
      ],
      "execution_count": null,
      "outputs": []
    },
    {
      "cell_type": "code",
      "metadata": {
        "id": "lSXtWX6NCEfz",
        "colab_type": "code",
        "colab": {}
      },
      "source": [
        "yy = results.clf.iloc[0].predict(XX)"
      ],
      "execution_count": null,
      "outputs": []
    },
    {
      "cell_type": "code",
      "metadata": {
        "id": "FMQ7mf3OCU6Q",
        "colab_type": "code",
        "colab": {}
      },
      "source": [
        "submission = pd.DataFrame(list(zip(XX.VisitNumber, yy)), columns=[\"VisitNumber\", \"TripType\"])"
      ],
      "execution_count": null,
      "outputs": []
    },
    {
      "cell_type": "code",
      "metadata": {
        "id": "ieQWdcBOCcTX",
        "colab_type": "code",
        "colab": {}
      },
      "source": [
        "submission.to_csv(\"/content/gdrive/My Drive/Colab Notebooks/submission.csv\", header=True, index=False)"
      ],
      "execution_count": null,
      "outputs": []
    },
    {
      "cell_type": "code",
      "metadata": {
        "id": "6bbxL0u2UmJQ",
        "colab_type": "code",
        "colab": {}
      },
      "source": [
        ""
      ],
      "execution_count": null,
      "outputs": []
    },
    {
      "cell_type": "code",
      "metadata": {
        "id": "qykwWJIlDJ59",
        "colab_type": "code",
        "colab": {
          "base_uri": "https://localhost:8080/",
          "height": 51
        },
        "outputId": "67959759-ad72-43b5-aaff-e7efa5e11bd4"
      },
      "source": [
        ""
      ],
      "execution_count": null,
      "outputs": [
        {
          "output_type": "execute_result",
          "data": {
            "text/plain": [
              "0    SGDClassifier(alpha=0.1, average=False, class_...\n",
              "Name: clf, dtype: object"
            ]
          },
          "metadata": {
            "tags": []
          },
          "execution_count": 22
        }
      ]
    },
    {
      "cell_type": "markdown",
      "metadata": {
        "id": "fwVkhqfkHq6n",
        "colab_type": "text"
      },
      "source": [
        "# **Boosting**"
      ]
    },
    {
      "cell_type": "code",
      "metadata": {
        "id": "XDcp_wH9HxGq",
        "colab_type": "code",
        "colab": {}
      },
      "source": [
        "from xgboost import XGBClassifier"
      ],
      "execution_count": 63,
      "outputs": []
    },
    {
      "cell_type": "code",
      "metadata": {
        "id": "5TrExe26IhAZ",
        "colab_type": "code",
        "colab": {
          "base_uri": "https://localhost:8080/",
          "height": 136
        },
        "outputId": "524a6bc7-8872-423d-c308-0ff14485b5e1"
      },
      "source": [
        "model_3=XGBClassifier(n_estimators=600,random_state=2)\n",
        "model_3.fit(X_train, y_train)"
      ],
      "execution_count": 86,
      "outputs": [
        {
          "output_type": "execute_result",
          "data": {
            "text/plain": [
              "XGBClassifier(base_score=0.5, booster='gbtree', colsample_bylevel=1,\n",
              "              colsample_bynode=1, colsample_bytree=1, gamma=0,\n",
              "              learning_rate=0.1, max_delta_step=0, max_depth=3,\n",
              "              min_child_weight=1, missing=None, n_estimators=600, n_jobs=1,\n",
              "              nthread=None, objective='multi:softprob', random_state=2,\n",
              "              reg_alpha=0, reg_lambda=1, scale_pos_weight=1, seed=None,\n",
              "              silent=None, subsample=1, verbosity=1)"
            ]
          },
          "metadata": {
            "tags": []
          },
          "execution_count": 86
        }
      ]
    },
    {
      "cell_type": "code",
      "metadata": {
        "id": "xDn4bjHjKBMD",
        "colab_type": "code",
        "colab": {}
      },
      "source": [
        "y_pred=model_3.predict(XX)"
      ],
      "execution_count": 87,
      "outputs": []
    },
    {
      "cell_type": "code",
      "metadata": {
        "id": "XsMTiV0xKbSU",
        "colab_type": "code",
        "colab": {}
      },
      "source": [
        "#XGB con valores por defecto mejoró el score\n",
        "#al aumentar  n_estimators=700 y random_state=2 mejoró aun más, tambien el tiempo de ejecución (-.-)!\n",
        "#aumentar n_estimators=800 redujo el score"
      ],
      "execution_count": 79,
      "outputs": []
    },
    {
      "cell_type": "code",
      "metadata": {
        "id": "e6UdQT98Kd-M",
        "colab_type": "code",
        "colab": {
          "base_uri": "https://localhost:8080/",
          "height": 34
        },
        "outputId": "9c9f8d84-d9da-4c8b-b316-484e3ae2d25a"
      },
      "source": [
        "# evaluate predictions\n",
        "model_3.score(X_valid, y_valid)"
      ],
      "execution_count": 88,
      "outputs": [
        {
          "output_type": "execute_result",
          "data": {
            "text/plain": [
              "0.6958078472325824"
            ]
          },
          "metadata": {
            "tags": []
          },
          "execution_count": 88
        }
      ]
    },
    {
      "cell_type": "code",
      "metadata": {
        "id": "HpCV-uaILX1H",
        "colab_type": "code",
        "colab": {
          "base_uri": "https://localhost:8080/",
          "height": 34
        },
        "outputId": "3dfd373a-55dc-4080-fcfa-d69a0686614d"
      },
      "source": [
        "X.shape, XX.shape\n"
      ],
      "execution_count": 89,
      "outputs": [
        {
          "output_type": "execute_result",
          "data": {
            "text/plain": [
              "((67029, 79), (28645, 79))"
            ]
          },
          "metadata": {
            "tags": []
          },
          "execution_count": 89
        }
      ]
    },
    {
      "cell_type": "code",
      "metadata": {
        "id": "NHxd7y_nNUPI",
        "colab_type": "code",
        "colab": {}
      },
      "source": [
        "submission = pd.DataFrame(list(zip(XX.VisitNumber, y_pred)), columns=[\"VisitNumber\", \"TripType\"])"
      ],
      "execution_count": 90,
      "outputs": []
    },
    {
      "cell_type": "code",
      "metadata": {
        "id": "4TN6-XTYUn1s",
        "colab_type": "code",
        "colab": {}
      },
      "source": [
        "submission.to_csv(\"/content/gdrive/My Drive/Colab Notebooks/submission.csv\", header=True, index=False)"
      ],
      "execution_count": 91,
      "outputs": []
    }
  ]
}